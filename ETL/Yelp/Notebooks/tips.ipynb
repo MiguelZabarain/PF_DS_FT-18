{
 "cells": [
  {
   "cell_type": "code",
   "execution_count": 1,
   "id": "297298fc-441a-441a-bccf-98a881106258",
   "metadata": {
    "tags": []
   },
   "outputs": [],
   "source": [
    "import pandas as pd"
   ]
  },
  {
   "cell_type": "code",
   "execution_count": 4,
   "id": "0920cdc0-4313-49e7-80e5-38152396b093",
   "metadata": {
    "tags": []
   },
   "outputs": [],
   "source": [
    "df_tips = pd.read_parquet('./data/tip.parquet') \n",
    "df_busisness = pd.read_parquet('./data_new/Busisness.parquet')"
   ]
  },
  {
   "cell_type": "code",
   "execution_count": 5,
   "id": "809c53c5-96d0-49fc-8a86-6035c4d9c130",
   "metadata": {
    "tags": []
   },
   "outputs": [
    {
     "name": "stdout",
     "output_type": "stream",
     "text": [
      "<class 'pandas.core.frame.DataFrame'>\n",
      "RangeIndex: 908915 entries, 0 to 908914\n",
      "Data columns (total 5 columns):\n",
      " #   Column            Non-Null Count   Dtype         \n",
      "---  ------            --------------   -----         \n",
      " 0   user_id           908915 non-null  object        \n",
      " 1   business_id       908915 non-null  object        \n",
      " 2   text              908915 non-null  object        \n",
      " 3   date              908915 non-null  datetime64[ns]\n",
      " 4   compliment_count  908915 non-null  int64         \n",
      "dtypes: datetime64[ns](1), int64(1), object(3)\n",
      "memory usage: 34.7+ MB\n"
     ]
    }
   ],
   "source": [
    "df_tips.info()"
   ]
  },
  {
   "cell_type": "code",
   "execution_count": 7,
   "id": "45000cee-fe99-4d91-b9b3-aad2a9e2ae4c",
   "metadata": {
    "tags": []
   },
   "outputs": [],
   "source": [
    "busisness_ids = df_busisness['business_id'].tolist()\n",
    "df_tips_new = df_tips[df_tips['business_id'].isin(busisness_ids)]"
   ]
  },
  {
   "cell_type": "code",
   "execution_count": 8,
   "id": "267b7f1c-e40b-404f-9ecd-40ea6dcc93e5",
   "metadata": {
    "tags": []
   },
   "outputs": [
    {
     "name": "stdout",
     "output_type": "stream",
     "text": [
      "<class 'pandas.core.frame.DataFrame'>\n",
      "Index: 675599 entries, 1 to 908914\n",
      "Data columns (total 5 columns):\n",
      " #   Column            Non-Null Count   Dtype         \n",
      "---  ------            --------------   -----         \n",
      " 0   user_id           675599 non-null  object        \n",
      " 1   business_id       675599 non-null  object        \n",
      " 2   text              675599 non-null  object        \n",
      " 3   date              675599 non-null  datetime64[ns]\n",
      " 4   compliment_count  675599 non-null  int64         \n",
      "dtypes: datetime64[ns](1), int64(1), object(3)\n",
      "memory usage: 30.9+ MB\n"
     ]
    }
   ],
   "source": [
    "df_tips_new.info()"
   ]
  },
  {
   "cell_type": "code",
   "execution_count": 9,
   "id": "a6d90272-684c-4ac6-85ca-cc658309bbd4",
   "metadata": {
    "tags": []
   },
   "outputs": [],
   "source": [
    "df_tips_new.to_parquet('tips.parquet',index=False)"
   ]
  }
 ],
 "metadata": {
  "environment": {
   "kernel": "conda-root-py",
   "name": "workbench-notebooks.m115",
   "type": "gcloud",
   "uri": "gcr.io/deeplearning-platform-release/workbench-notebooks:m115"
  },
  "kernelspec": {
   "display_name": "Python 3 (ipykernel) (Local)",
   "language": "python",
   "name": "conda-root-py"
  },
  "language_info": {
   "codemirror_mode": {
    "name": "ipython",
    "version": 3
   },
   "file_extension": ".py",
   "mimetype": "text/x-python",
   "name": "python",
   "nbconvert_exporter": "python",
   "pygments_lexer": "ipython3",
   "version": "3.10.13"
  }
 },
 "nbformat": 4,
 "nbformat_minor": 5
}
