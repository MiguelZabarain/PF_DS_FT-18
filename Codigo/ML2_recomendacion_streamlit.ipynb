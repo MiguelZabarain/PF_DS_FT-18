{
 "cells": [
  {
   "cell_type": "markdown",
   "metadata": {},
   "source": [
    "# Realizar una recomendación para cada sitio \n",
    "## Para realizar Deploy en Stremlit"
   ]
  },
  {
   "cell_type": "markdown",
   "metadata": {},
   "source": [
    "### Primero vamos a confeccionar un dataset con los datos de cada sitio con su respectiva recomendacion utilizando ML y luego realizar el deploy en streamlit"
   ]
  },
  {
   "cell_type": "markdown",
   "metadata": {},
   "source": [
    "Importamos Bibliotecas"
   ]
  },
  {
   "cell_type": "code",
   "execution_count": null,
   "metadata": {},
   "outputs": [],
   "source": [
    "import pandas as pd\n",
    "from sklearn.feature_extraction.text import TfidfVectorizer\n",
    "from sklearn.metrics.pairwise import cosine_similarity\n",
    "import random"
   ]
  },
  {
   "cell_type": "markdown",
   "metadata": {},
   "source": [
    "Cargamos los archivos ya procesado en un Dataframe"
   ]
  },
  {
   "cell_type": "code",
   "execution_count": null,
   "metadata": {},
   "outputs": [],
   "source": [
    "# Cargar el DataFrame df_ml \n",
    "dl_ml = pd.read_csv('Ruta del archivo procesado')"
   ]
  },
  {
   "cell_type": "markdown",
   "metadata": {},
   "source": [
    "Realizar transformaciones y agrupar datos por ciudad y estado"
   ]
  },
  {
   "cell_type": "code",
   "execution_count": null,
   "metadata": {},
   "outputs": [],
   "source": [
    "# Obtener una lista de datos únicos de city por cada estado y la cantidad de id_sitios diferentes por ciudad\n",
    "lista_ciudades_por_estado = df_ml.groupby(['state', 'city']).agg({'id_sitio': 'nunique'}).reset_index()\n",
    "\n",
    "# Convertir 'id_sitio' a tipo entero\n",
    "df_ml[\"id_sitio\"] = df_ml[\"id_sitio\"].astype(int)\n",
    "\n",
    "# Remover caracteres no deseados de la columna 'text'\n",
    "df_ml['text'] = df_ml['text'].apply(lambda x: str(x).replace('[', '').replace(']', '').replace(\"'\", ''))\n",
    "\n",
    "# Definir df_stream si no está definido previamente\n",
    "df_stream = pd.DataFrame()"
   ]
  },
  {
   "cell_type": "markdown",
   "metadata": {},
   "source": [
    "Realizamos una funcion que usaremos para obtener la similitud"
   ]
  },
  {
   "cell_type": "code",
   "execution_count": null,
   "metadata": {},
   "outputs": [],
   "source": [
    "\n",
    "# Función para obtener recomendaciones por título\n",
    "def recomendacion(sitio, similitud, porciudad):\n",
    "    indice = porciudad[porciudad[\"id_sitio\"] == sitio].index\n",
    "    if len(indice) > 0:\n",
    "        indice = indice[0]\n",
    "        if indice < len(similitud):\n",
    "            distances = similitud[indice]\n",
    "            lista_resto = sorted(list(enumerate(distances)), reverse=True, key=lambda x: x[1])[1:6] # modificando esta ultima parte podemos cambiar la cantidad de recomendaciones obtenidas\n",
    "            recommended_titles = [porciudad.iloc[i]['id_sitio'] for i, _ in lista_resto]\n",
    "            return recommended_titles\n",
    "        else:\n",
    "            return []\n",
    "    else:\n",
    "        return []\n"
   ]
  },
  {
   "cell_type": "markdown",
   "metadata": {},
   "source": [
    "Iterando por cada ciudad de cada estado realizamos el proceso de recomendacion"
   ]
  },
  {
   "cell_type": "code",
   "execution_count": null,
   "metadata": {},
   "outputs": [],
   "source": [
    "\n",
    "# Iterar sobre el DataFrame lista_ciudades_por_estado\n",
    "for index, row in lista_ciudades_por_estado.iterrows():\n",
    "    estado = row['state']\n",
    "    ciudad = row['city']\n",
    "    cantidad_id_sitio = row['id_sitio']\n",
    "    \n",
    "    print(f\"Procesando estado: {estado}, ciudad: {ciudad}\")\n",
    "    \n",
    "    # Filtrar el DataFrame df_ml por estado y ciudad\n",
    "    porciudad = df_ml[(df_ml['state'] == estado) & (df_ml['city'] == ciudad)][['id_sitio', 'text']]\n",
    "    porciudad[\"id_sitio\"] = porciudad[\"id_sitio\"].astype(int)\n",
    "    \n",
    "    # Tomar una muestra aleatoria del DataFrame porciudad si hay más de 1000 filas\n",
    "    if len(porciudad) > 1000:\n",
    "        porciudad_muestra = porciudad.sample(n=1000, random_state=42)\n",
    "    else:\n",
    "        porciudad_muestra = porciudad\n",
    "    \n",
    "    # Aplicar TF-IDF al texto en la muestra\n",
    "    tfidf_vectorizer = TfidfVectorizer()\n",
    "    tfidf_matrix_muestra = tfidf_vectorizer.fit_transform(porciudad_muestra['text'])\n",
    "    \n",
    "    # Calcular la similitud coseno entre vectores de texto en la muestra\n",
    "    similitud_muestra = cosine_similarity(tfidf_matrix_muestra, tfidf_matrix_muestra)\n",
    "    \n",
    "    # Obtener recomendaciones y agregarlas al DataFrame\n",
    "    porciudad_muestra['Recomendaciones'] = porciudad_muestra['id_sitio'].apply(lambda x: recomendacion(x, similitud_muestra, porciudad_muestra))\n",
    "    \n",
    "    # Agregar el resultado al DataFrame principal\n",
    "    df_stream = pd.concat([df_stream, porciudad_muestra], ignore_index=True)\n",
    "\n"
   ]
  },
  {
   "cell_type": "markdown",
   "metadata": {},
   "source": [
    "una vez obtenido el dataframe resultante lo almacenamos en un archivo para ser usado por la api"
   ]
  },
  {
   "cell_type": "markdown",
   "metadata": {},
   "source": [
    "## El siguente es el codigo usado para realizar la Api utilizando Streamlit"
   ]
  },
  {
   "cell_type": "markdown",
   "metadata": {},
   "source": [
    "se crea un entorno virtual para correr en forma local la api que luego va a ser exportada"
   ]
  },
  {
   "cell_type": "markdown",
   "metadata": {},
   "source": [
    "todo el siguiente codigo se guarda en un archivo.py que va a ser el que va a correr en nuestra api"
   ]
  },
  {
   "cell_type": "code",
   "execution_count": null,
   "metadata": {},
   "outputs": [],
   "source": [
    "import streamlit as st\n",
    "import pandas as pd\n",
    "\n",
    "# Insertar la imagen con el ancho calculado en píxeles\n",
    "st.image(\"logo.png\", width=200)\n",
    "\n",
    "ruta_archivo ='Ruta del archivo'\n",
    "df = pd.read_csv(ruta_archivo)\n",
    "st.title('Busqueda y Recomendación')\n",
    "# Definir el diccionario de mapeo\n",
    "estados = {\n",
    "    'TX': 'Texas',\n",
    "    'CA': 'California',\n",
    "    'PA': 'Pennsylvania',\n",
    "    'NY': 'New York',\n",
    "    'FL': 'Florida'\n",
    "}\n",
    "if st.checkbox('Buscar Restaurant '):\n",
    "    # Obtener la selección del usuario\n",
    "    opcion_abreviada = st.radio('Estado', ('CA','PA','FL','NY','TX',), format_func=lambda x: estados[x], horizontal=True)\n",
    "    # Obtener el nombre completo del estado seleccionado\n",
    "    nombre_completo = estados[opcion_abreviada]\n",
    "    df_estado_seleccionado = df[df['state'] == opcion_abreviada]\n",
    "    # Obtener la lista de ciudades únicas para el estado seleccionado\n",
    "    ciudades_estado_seleccionado = df_estado_seleccionado['city'].unique().tolist()\n",
    "    ciudade = st.selectbox('Elija ciudad', ciudades_estado_seleccionado)\n",
    "    nombres = df[(df['state'] == opcion_abreviada) & (df['city'] == ciudade)]['name'].tolist()\n",
    "    nombres_formateados = [f\"{nombre} - {indice}\" for indice, nombre in enumerate(nombres)]\n",
    "    nombres_seleccionados = st.selectbox('Elija local', nombres_formateados)\n",
    "    \n",
    "    # Obtener el índice seleccionado\n",
    "    indice_seleccionado = nombres_formateados.index(nombres_seleccionados)\n",
    "    \n",
    "    # Obtener los datos del restaurante seleccionado\n",
    "    datos_seleccionados = df_estado_seleccionado[df_estado_seleccionado['name'] == nombres[indice_seleccionado]]\n",
    "    \n",
    "    # Crear un nuevo DataFrame con los datos seleccionados\n",
    "    seleccion = pd.DataFrame(datos_seleccionados)\n",
    "    nombre = seleccion['name'].iloc[0]\n",
    "    direccion = seleccion['address'].iloc[0]\n",
    "    catagoria = seleccion['category'].iloc[0]\n",
    "    estrellas = str(seleccion['avg_rating'].iloc[0])\n",
    "    web = seleccion['url'].iloc[0]\n",
    "    \n",
    "    col1,col2 = st.columns(2)\n",
    "    with col1:\n",
    "        st.map(seleccion)\n",
    "    with col2:\n",
    "        st.write('Nombre Local :', nombre)\n",
    "        st.write('Direccion :', direccion)\n",
    "        st.write('Categoria :', catagoria)\n",
    "        st.write('Valoracion :', estrellas)\n",
    "        st.write('web :', web)\n",
    "    if st.checkbox('Ver Recomendacion '):\n",
    "        seleccion_id = seleccion['recomendacion'].iloc[0] \n",
    "        # se crea un segundo dataFrame con el indice de la recomendacion\n",
    "        recomendacion = df[df['id_sitio'] == seleccion_id] \n",
    "\n",
    "        nombrer = recomendacion['name'].iloc[0]\n",
    "        direccionr = recomendacion['address'].iloc[0]\n",
    "        catagoriar = recomendacion['category'].iloc[0]\n",
    "        estrellasr = str(recomendacion['avg_rating'].iloc[0])\n",
    "        webr = recomendacion['url'].iloc[0]\n",
    "        col3,col4 = st.columns(2)\n",
    "        with col3:\n",
    "            st.write('Nombre Local :', nombrer)\n",
    "            st.write('Direccion :', direccionr)\n",
    "            st.write('Categoria :', catagoriar)\n",
    "            st.write('Valoracion :', estrellasr)\n",
    "            st.write('web :', webr)\n",
    "        with col4:\n",
    "            st.map(recomendacion.iloc[[0]])\n",
    "\n",
    "if st.button('Busqueda Aleatoria'):\n",
    "    # Selecciona un dato aleatorio del DataFrame\n",
    "    dato = df.sample()    \n",
    "    nombrea = dato['name'].iloc[0]\n",
    "    direcciona = dato['address'].iloc[0]\n",
    "    catagoriaa = dato['category'].iloc[0]\n",
    "    estrellasa = str(dato['avg_rating'].iloc[0])\n",
    "    weba = dato['url'].iloc[0]\n",
    "    col5,col6 = st.columns(2)\n",
    "    with col5:\n",
    "        st.map(dato)\n",
    "    with col6:\n",
    "        st.write('Nombre Local :', nombrea)\n",
    "        st.write('Direccion :', direcciona)\n",
    "        st.write('Categoria :', catagoriaa)\n",
    "        st.write('Valoracion :', estrellasa)\n",
    "        st.write('web :', weba)"
   ]
  },
  {
   "cell_type": "markdown",
   "metadata": {},
   "source": [
    "se realiza el archivo requerimientos.txt para poder hacer el deploy de la api"
   ]
  }
 ],
 "metadata": {
  "kernelspec": {
   "display_name": "Python 3",
   "language": "python",
   "name": "python3"
  },
  "language_info": {
   "name": "python",
   "version": "3.12.1"
  }
 },
 "nbformat": 4,
 "nbformat_minor": 2
}
